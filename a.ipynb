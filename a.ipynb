{
 "cells": [
  {
   "cell_type": "code",
   "execution_count": 1,
   "metadata": {},
   "outputs": [
    {
     "name": "stdout",
     "output_type": "stream",
     "text": [
      "Requirement already satisfied: Flask in c:\\users\\h\\appdata\\local\\programs\\python\\python312\\lib\\site-packages (3.0.0)\n",
      "Requirement already satisfied: Werkzeug>=3.0.0 in c:\\users\\h\\appdata\\local\\programs\\python\\python312\\lib\\site-packages (from Flask) (3.0.1)\n",
      "Requirement already satisfied: Jinja2>=3.1.2 in c:\\users\\h\\appdata\\local\\programs\\python\\python312\\lib\\site-packages (from Flask) (3.1.2)\n",
      "Requirement already satisfied: itsdangerous>=2.1.2 in c:\\users\\h\\appdata\\local\\programs\\python\\python312\\lib\\site-packages (from Flask) (2.1.2)\n",
      "Requirement already satisfied: click>=8.1.3 in c:\\users\\h\\appdata\\local\\programs\\python\\python312\\lib\\site-packages (from Flask) (8.1.7)\n",
      "Requirement already satisfied: blinker>=1.6.2 in c:\\users\\h\\appdata\\local\\programs\\python\\python312\\lib\\site-packages (from Flask) (1.7.0)\n",
      "Requirement already satisfied: colorama in c:\\users\\h\\appdata\\roaming\\python\\python312\\site-packages (from click>=8.1.3->Flask) (0.4.6)\n",
      "Requirement already satisfied: MarkupSafe>=2.0 in c:\\users\\h\\appdata\\local\\programs\\python\\python312\\lib\\site-packages (from Jinja2>=3.1.2->Flask) (2.1.3)\n",
      "Note: you may need to restart the kernel to use updated packages.\n"
     ]
    }
   ],
   "source": [
    "pip install Flask"
   ]
  },
  {
   "cell_type": "code",
   "execution_count": 1,
   "metadata": {},
   "outputs": [
    {
     "name": "stdout",
     "output_type": "stream",
     "text": [
      "Requirement already satisfied: tensorflow in c:\\users\\h\\appdata\\local\\programs\\python\\python312\\lib\\site-packages (1.8.0)\n",
      "Requirement already satisfied: absl-py>=0.1.6 in c:\\users\\h\\appdata\\local\\programs\\python\\python312\\lib\\site-packages (from tensorflow) (2.0.0)\n",
      "Requirement already satisfied: astor>=0.6.0 in c:\\users\\h\\appdata\\local\\programs\\python\\python312\\lib\\site-packages (from tensorflow) (0.8.1)\n",
      "Requirement already satisfied: gast>=0.2.0 in c:\\users\\h\\appdata\\local\\programs\\python\\python312\\lib\\site-packages (from tensorflow) (0.5.4)\n",
      "Requirement already satisfied: numpy>=1.13.3 in c:\\users\\h\\appdata\\local\\programs\\python\\python312\\lib\\site-packages (from tensorflow) (1.26.1)\n",
      "Requirement already satisfied: six>=1.10.0 in c:\\users\\h\\appdata\\roaming\\python\\python312\\site-packages (from tensorflow) (1.16.0)\n",
      "Requirement already satisfied: protobuf>=3.4.0 in c:\\users\\h\\appdata\\local\\programs\\python\\python312\\lib\\site-packages (from tensorflow) (4.25.0)\n",
      "Requirement already satisfied: tensorboard<1.9.0,>=1.8.0 in c:\\users\\h\\appdata\\local\\programs\\python\\python312\\lib\\site-packages (from tensorflow) (1.8.0)\n",
      "Requirement already satisfied: termcolor>=1.1.0 in c:\\users\\h\\appdata\\local\\programs\\python\\python312\\lib\\site-packages (from tensorflow) (2.3.0)\n",
      "Requirement already satisfied: grpcio>=1.8.6 in c:\\users\\h\\appdata\\local\\programs\\python\\python312\\lib\\site-packages (from tensorflow) (1.59.2)\n",
      "Requirement already satisfied: wheel>=0.26 in c:\\users\\h\\appdata\\local\\programs\\python\\python312\\lib\\site-packages (from tensorflow) (0.41.3)\n",
      "Requirement already satisfied: werkzeug>=0.11.10 in c:\\users\\h\\appdata\\local\\programs\\python\\python312\\lib\\site-packages (from tensorboard<1.9.0,>=1.8.0->tensorflow) (3.0.1)\n",
      "Requirement already satisfied: html5lib==0.9999999 in c:\\users\\h\\appdata\\local\\programs\\python\\python312\\lib\\site-packages (from tensorboard<1.9.0,>=1.8.0->tensorflow) (0.9999999)\n",
      "Requirement already satisfied: markdown>=2.6.8 in c:\\users\\h\\appdata\\local\\programs\\python\\python312\\lib\\site-packages (from tensorboard<1.9.0,>=1.8.0->tensorflow) (3.5.1)\n",
      "Requirement already satisfied: bleach==1.5.0 in c:\\users\\h\\appdata\\local\\programs\\python\\python312\\lib\\site-packages (from tensorboard<1.9.0,>=1.8.0->tensorflow) (1.5.0)\n",
      "Requirement already satisfied: MarkupSafe>=2.1.1 in c:\\users\\h\\appdata\\local\\programs\\python\\python312\\lib\\site-packages (from werkzeug>=0.11.10->tensorboard<1.9.0,>=1.8.0->tensorflow) (2.1.3)\n",
      "Note: you may need to restart the kernel to use updated packages.\n"
     ]
    }
   ],
   "source": [
    "pip install tensorflow\n"
   ]
  },
  {
   "cell_type": "code",
   "execution_count": 4,
   "metadata": {},
   "outputs": [
    {
     "name": "stdout",
     "output_type": "stream",
     "text": [
      "Note: you may need to restart the kernel to use updated packages.\n"
     ]
    },
    {
     "name": "stderr",
     "output_type": "stream",
     "text": [
      "ERROR: Could not find a version that satisfies the requirement tensorflow (from versions: none)\n",
      "ERROR: No matching distribution found for tensorflow\n"
     ]
    }
   ],
   "source": [
    "\n"
   ]
  },
  {
   "cell_type": "code",
   "execution_count": 1,
   "metadata": {},
   "outputs": [
    {
     "name": "stdout",
     "output_type": "stream",
     "text": [
      "Requirement already satisfied: flask in c:\\users\\h\\appdata\\local\\programs\\python\\python312\\lib\\site-packages (3.0.0)\n",
      "Requirement already satisfied: Werkzeug>=3.0.0 in c:\\users\\h\\appdata\\local\\programs\\python\\python312\\lib\\site-packages (from flask) (3.0.1)\n",
      "Requirement already satisfied: Jinja2>=3.1.2 in c:\\users\\h\\appdata\\local\\programs\\python\\python312\\lib\\site-packages (from flask) (3.1.2)\n",
      "Requirement already satisfied: itsdangerous>=2.1.2 in c:\\users\\h\\appdata\\local\\programs\\python\\python312\\lib\\site-packages (from flask) (2.1.2)\n",
      "Requirement already satisfied: click>=8.1.3 in c:\\users\\h\\appdata\\local\\programs\\python\\python312\\lib\\site-packages (from flask) (8.1.7)\n",
      "Requirement already satisfied: blinker>=1.6.2 in c:\\users\\h\\appdata\\local\\programs\\python\\python312\\lib\\site-packages (from flask) (1.7.0)\n",
      "Requirement already satisfied: colorama in c:\\users\\h\\appdata\\roaming\\python\\python312\\site-packages (from click>=8.1.3->flask) (0.4.6)\n",
      "Requirement already satisfied: MarkupSafe>=2.0 in c:\\users\\h\\appdata\\local\\programs\\python\\python312\\lib\\site-packages (from Jinja2>=3.1.2->flask) (2.1.3)\n",
      "Note: you may need to restart the kernel to use updated packages.\n"
     ]
    }
   ],
   "source": [
    "pip install flask\n"
   ]
  },
  {
   "cell_type": "code",
   "execution_count": 2,
   "metadata": {},
   "outputs": [
    {
     "name": "stdout",
     "output_type": "stream",
     "text": [
      "Collecting tensorflow==1.8.0\n",
      "  Downloading https://storage.googleapis.com/tensorflow/mac/cpu/tensorflow-1.8.0-py3-none-any.whl (46.5 MB)\n",
      "     ---------------------------------------- 0.0/46.5 MB ? eta -:--:--\n",
      "     ---------------------------------------- 0.0/46.5 MB ? eta -:--:--\n",
      "     ---------------------------------------- 0.0/46.5 MB ? eta -:--:--\n",
      "     --------------------------------------- 0.0/46.5 MB 187.9 kB/s eta 0:04:08\n",
      "     --------------------------------------- 0.0/46.5 MB 196.9 kB/s eta 0:03:57\n",
      "     --------------------------------------- 0.0/46.5 MB 196.9 kB/s eta 0:03:57\n",
      "     --------------------------------------- 0.0/46.5 MB 196.9 kB/s eta 0:03:57\n",
      "     --------------------------------------- 0.1/46.5 MB 218.6 kB/s eta 0:03:33\n",
      "     --------------------------------------- 0.1/46.5 MB 218.6 kB/s eta 0:03:33\n",
      "     --------------------------------------- 0.1/46.5 MB 218.6 kB/s eta 0:03:33\n",
      "     --------------------------------------- 0.1/46.5 MB 234.3 kB/s eta 0:03:19\n",
      "     --------------------------------------- 0.1/46.5 MB 284.4 kB/s eta 0:02:44\n",
      "     --------------------------------------- 0.2/46.5 MB 318.1 kB/s eta 0:02:26\n",
      "     --------------------------------------- 0.2/46.5 MB 355.7 kB/s eta 0:02:11\n",
      "     --------------------------------------- 0.3/46.5 MB 403.5 kB/s eta 0:01:55\n",
      "     --------------------------------------- 0.3/46.5 MB 452.7 kB/s eta 0:01:43\n",
      "     --------------------------------------- 0.4/46.5 MB 568.1 kB/s eta 0:01:22\n",
      "     --------------------------------------- 0.5/46.5 MB 682.7 kB/s eta 0:01:08\n",
      "      -------------------------------------- 0.6/46.5 MB 783.7 kB/s eta 0:00:59\n",
      "      -------------------------------------- 0.8/46.5 MB 935.3 kB/s eta 0:00:49\n",
      "      --------------------------------------- 1.0/46.5 MB 1.1 MB/s eta 0:00:40\n",
      "     - -------------------------------------- 1.3/46.5 MB 1.4 MB/s eta 0:00:33\n",
      "     - -------------------------------------- 1.6/46.5 MB 1.7 MB/s eta 0:00:27\n",
      "     - -------------------------------------- 2.1/46.5 MB 2.0 MB/s eta 0:00:23\n",
      "     -- ------------------------------------- 2.5/46.5 MB 2.3 MB/s eta 0:00:20\n",
      "     -- ------------------------------------- 3.0/46.5 MB 2.7 MB/s eta 0:00:17\n",
      "     --- ------------------------------------ 3.6/46.5 MB 3.0 MB/s eta 0:00:15\n",
      "     --- ------------------------------------ 4.1/46.5 MB 3.4 MB/s eta 0:00:13\n",
      "     --- ------------------------------------ 4.6/46.5 MB 3.7 MB/s eta 0:00:12\n",
      "     ---- ----------------------------------- 5.1/46.5 MB 4.0 MB/s eta 0:00:11\n",
      "     ---- ----------------------------------- 5.6/46.5 MB 4.1 MB/s eta 0:00:10\n",
      "     ----- ---------------------------------- 6.1/46.5 MB 4.4 MB/s eta 0:00:10\n",
      "     ----- ---------------------------------- 6.6/46.5 MB 4.6 MB/s eta 0:00:09\n",
      "     ------ --------------------------------- 7.2/46.5 MB 4.8 MB/s eta 0:00:09\n",
      "     ------ --------------------------------- 7.8/46.5 MB 5.1 MB/s eta 0:00:08\n",
      "     ------- -------------------------------- 8.3/46.5 MB 5.3 MB/s eta 0:00:08\n",
      "     ------- -------------------------------- 8.9/46.5 MB 5.5 MB/s eta 0:00:07\n",
      "     -------- ------------------------------- 9.5/46.5 MB 5.7 MB/s eta 0:00:07\n",
      "     -------- ------------------------------- 10.0/46.5 MB 5.8 MB/s eta 0:00:07\n",
      "     --------- ------------------------------ 10.6/46.5 MB 9.4 MB/s eta 0:00:04\n",
      "     --------- ----------------------------- 11.2/46.5 MB 10.9 MB/s eta 0:00:04\n",
      "     --------- ----------------------------- 11.7/46.5 MB 11.5 MB/s eta 0:00:04\n",
      "     ---------- ---------------------------- 12.3/46.5 MB 11.5 MB/s eta 0:00:03\n",
      "     ---------- ---------------------------- 12.9/46.5 MB 11.7 MB/s eta 0:00:03\n",
      "     ----------- --------------------------- 13.4/46.5 MB 11.7 MB/s eta 0:00:03\n",
      "     ----------- --------------------------- 14.0/46.5 MB 11.7 MB/s eta 0:00:03\n",
      "     ------------ -------------------------- 14.6/46.5 MB 11.7 MB/s eta 0:00:03\n",
      "     ------------ -------------------------- 15.2/46.5 MB 11.7 MB/s eta 0:00:03\n",
      "     ------------- ------------------------- 15.7/46.5 MB 11.7 MB/s eta 0:00:03\n",
      "     ------------- ------------------------- 16.3/46.5 MB 12.1 MB/s eta 0:00:03\n",
      "     -------------- ------------------------ 16.9/46.5 MB 11.9 MB/s eta 0:00:03\n",
      "     -------------- ------------------------ 17.4/46.5 MB 11.9 MB/s eta 0:00:03\n",
      "     -------------- ------------------------ 17.8/46.5 MB 11.9 MB/s eta 0:00:03\n",
      "     --------------- ----------------------- 18.4/46.5 MB 11.9 MB/s eta 0:00:03\n",
      "     --------------- ----------------------- 19.0/46.5 MB 11.9 MB/s eta 0:00:03\n",
      "     ---------------- ---------------------- 19.5/46.5 MB 11.7 MB/s eta 0:00:03\n",
      "     ---------------- ---------------------- 20.2/46.5 MB 11.9 MB/s eta 0:00:03\n",
      "     ----------------- --------------------- 20.7/46.5 MB 11.9 MB/s eta 0:00:03\n",
      "     ----------------- --------------------- 21.3/46.5 MB 11.9 MB/s eta 0:00:03\n",
      "     ------------------ -------------------- 21.8/46.5 MB 11.9 MB/s eta 0:00:03\n",
      "     ------------------ -------------------- 22.3/46.5 MB 11.7 MB/s eta 0:00:03\n",
      "     ------------------- ------------------- 22.9/46.5 MB 11.9 MB/s eta 0:00:02\n",
      "     ------------------- ------------------- 23.4/46.5 MB 11.7 MB/s eta 0:00:02\n",
      "     -------------------- ------------------ 23.9/46.5 MB 12.1 MB/s eta 0:00:02\n",
      "     -------------------- ------------------ 24.4/46.5 MB 11.7 MB/s eta 0:00:02\n",
      "     -------------------- ------------------ 24.9/46.5 MB 11.9 MB/s eta 0:00:02\n",
      "     --------------------- ----------------- 25.5/46.5 MB 11.9 MB/s eta 0:00:02\n",
      "     --------------------- ----------------- 26.1/46.5 MB 11.9 MB/s eta 0:00:02\n",
      "     ---------------------- ---------------- 26.7/46.5 MB 11.9 MB/s eta 0:00:02\n",
      "     ---------------------- ---------------- 27.2/46.5 MB 11.9 MB/s eta 0:00:02\n",
      "     ----------------------- --------------- 27.8/46.5 MB 11.9 MB/s eta 0:00:02\n",
      "     ----------------------- --------------- 28.3/46.5 MB 11.7 MB/s eta 0:00:02\n",
      "     ------------------------ -------------- 28.9/46.5 MB 11.9 MB/s eta 0:00:02\n",
      "     ------------------------ -------------- 29.4/46.5 MB 11.9 MB/s eta 0:00:02\n",
      "     ------------------------- ------------- 30.0/46.5 MB 11.9 MB/s eta 0:00:02\n",
      "     ------------------------- ------------- 30.6/46.5 MB 11.9 MB/s eta 0:00:02\n",
      "     -------------------------- ------------ 31.2/46.5 MB 11.9 MB/s eta 0:00:02\n",
      "     -------------------------- ------------ 31.7/46.5 MB 11.9 MB/s eta 0:00:02\n",
      "     --------------------------- ----------- 32.3/46.5 MB 11.9 MB/s eta 0:00:02\n",
      "     --------------------------- ----------- 32.9/46.5 MB 11.9 MB/s eta 0:00:02\n",
      "     ---------------------------- ---------- 33.5/46.5 MB 12.1 MB/s eta 0:00:02\n",
      "     ---------------------------- ---------- 34.0/46.5 MB 11.9 MB/s eta 0:00:02\n",
      "     ----------------------------- --------- 34.7/46.5 MB 11.9 MB/s eta 0:00:01\n",
      "     ----------------------------- --------- 35.1/46.5 MB 11.9 MB/s eta 0:00:01\n",
      "     ----------------------------- --------- 35.7/46.5 MB 12.1 MB/s eta 0:00:01\n",
      "     ------------------------------ -------- 36.2/46.5 MB 11.9 MB/s eta 0:00:01\n",
      "     ------------------------------ -------- 36.9/46.5 MB 12.1 MB/s eta 0:00:01\n",
      "     ------------------------------- ------- 37.4/46.5 MB 11.9 MB/s eta 0:00:01\n",
      "     ------------------------------- ------- 38.0/46.5 MB 11.9 MB/s eta 0:00:01\n",
      "     -------------------------------- ------ 38.6/46.5 MB 12.1 MB/s eta 0:00:01\n",
      "     -------------------------------- ------ 39.1/46.5 MB 12.1 MB/s eta 0:00:01\n",
      "     --------------------------------- ----- 39.7/46.5 MB 12.1 MB/s eta 0:00:01\n",
      "     --------------------------------- ----- 40.2/46.5 MB 12.1 MB/s eta 0:00:01\n",
      "     ---------------------------------- ---- 40.8/46.5 MB 12.1 MB/s eta 0:00:01\n",
      "     ---------------------------------- ---- 41.3/46.5 MB 12.1 MB/s eta 0:00:01\n",
      "     ----------------------------------- --- 41.8/46.5 MB 11.9 MB/s eta 0:00:01\n",
      "     ----------------------------------- --- 42.4/46.5 MB 11.9 MB/s eta 0:00:01\n",
      "     ----------------------------------- --- 42.9/46.5 MB 11.9 MB/s eta 0:00:01\n",
      "     ------------------------------------ -- 43.5/46.5 MB 11.9 MB/s eta 0:00:01\n",
      "     ------------------------------------ -- 44.1/46.5 MB 11.9 MB/s eta 0:00:01\n",
      "     ------------------------------------- - 44.6/46.5 MB 11.9 MB/s eta 0:00:01\n",
      "     ------------------------------------- - 45.2/46.5 MB 11.9 MB/s eta 0:00:01\n",
      "     --------------------------------------  45.7/46.5 MB 11.9 MB/s eta 0:00:01\n",
      "     --------------------------------------  46.3/46.5 MB 11.9 MB/s eta 0:00:01\n",
      "     --------------------------------------  46.5/46.5 MB 11.9 MB/s eta 0:00:01\n",
      "     --------------------------------------  46.5/46.5 MB 11.9 MB/s eta 0:00:01\n",
      "     --------------------------------------- 46.5/46.5 MB 10.9 MB/s eta 0:00:00\n",
      "Collecting absl-py>=0.1.6 (from tensorflow==1.8.0)\n",
      "  Downloading absl_py-2.0.0-py3-none-any.whl.metadata (2.3 kB)\n",
      "Collecting astor>=0.6.0 (from tensorflow==1.8.0)\n",
      "  Downloading astor-0.8.1-py2.py3-none-any.whl (27 kB)\n",
      "Collecting gast>=0.2.0 (from tensorflow==1.8.0)\n",
      "  Downloading gast-0.5.4-py3-none-any.whl (19 kB)\n",
      "Requirement already satisfied: numpy>=1.13.3 in c:\\users\\h\\appdata\\local\\programs\\python\\python312\\lib\\site-packages (from tensorflow==1.8.0) (1.26.1)\n",
      "Requirement already satisfied: six>=1.10.0 in c:\\users\\h\\appdata\\roaming\\python\\python312\\site-packages (from tensorflow==1.8.0) (1.16.0)\n",
      "Collecting protobuf>=3.4.0 (from tensorflow==1.8.0)\n",
      "  Downloading protobuf-4.25.0-cp310-abi3-win_amd64.whl.metadata (541 bytes)\n",
      "Collecting tensorboard<1.9.0,>=1.8.0 (from tensorflow==1.8.0)\n",
      "  Downloading tensorboard-1.8.0-py3-none-any.whl (3.1 MB)\n",
      "     ---------------------------------------- 0.0/3.1 MB ? eta -:--:--\n",
      "     - -------------------------------------- 0.1/3.1 MB 2.4 MB/s eta 0:00:02\n",
      "     ---- ----------------------------------- 0.3/3.1 MB 4.1 MB/s eta 0:00:01\n",
      "     --------- ------------------------------ 0.7/3.1 MB 5.2 MB/s eta 0:00:01\n",
      "     ---------------- ----------------------- 1.3/3.1 MB 7.6 MB/s eta 0:00:01\n",
      "     ----------------------- ---------------- 1.8/3.1 MB 8.2 MB/s eta 0:00:01\n",
      "     ----------------------------- ---------- 2.3/3.1 MB 8.7 MB/s eta 0:00:01\n",
      "     ------------------------------------ --- 2.8/3.1 MB 9.1 MB/s eta 0:00:01\n",
      "     ---------------------------------------- 3.1/3.1 MB 9.0 MB/s eta 0:00:00\n",
      "Collecting termcolor>=1.1.0 (from tensorflow==1.8.0)\n",
      "  Downloading termcolor-2.3.0-py3-none-any.whl (6.9 kB)\n",
      "Collecting grpcio>=1.8.6 (from tensorflow==1.8.0)\n",
      "  Downloading grpcio-1.59.2-cp312-cp312-win_amd64.whl.metadata (4.2 kB)\n",
      "Collecting wheel>=0.26 (from tensorflow==1.8.0)\n",
      "  Downloading wheel-0.41.3-py3-none-any.whl.metadata (2.2 kB)\n",
      "Requirement already satisfied: werkzeug>=0.11.10 in c:\\users\\h\\appdata\\local\\programs\\python\\python312\\lib\\site-packages (from tensorboard<1.9.0,>=1.8.0->tensorflow==1.8.0) (3.0.1)\n",
      "Collecting html5lib==0.9999999 (from tensorboard<1.9.0,>=1.8.0->tensorflow==1.8.0)\n",
      "  Downloading html5lib-0.9999999.tar.gz (889 kB)\n",
      "     ---------------------------------------- 0.0/889.3 kB ? eta -:--:--\n",
      "     --------------------- --------------- 522.2/889.3 kB 16.0 MB/s eta 0:00:01\n",
      "     ------------------------------------- 889.3/889.3 kB 14.0 MB/s eta 0:00:00\n",
      "  Installing build dependencies: started\n",
      "  Installing build dependencies: finished with status 'done'\n",
      "  Getting requirements to build wheel: started\n",
      "  Getting requirements to build wheel: finished with status 'done'\n",
      "  Preparing metadata (pyproject.toml): started\n",
      "  Preparing metadata (pyproject.toml): finished with status 'done'\n",
      "Collecting markdown>=2.6.8 (from tensorboard<1.9.0,>=1.8.0->tensorflow==1.8.0)\n",
      "  Downloading Markdown-3.5.1-py3-none-any.whl.metadata (7.1 kB)\n",
      "Collecting bleach==1.5.0 (from tensorboard<1.9.0,>=1.8.0->tensorflow==1.8.0)\n",
      "  Downloading bleach-1.5.0-py2.py3-none-any.whl (17 kB)\n",
      "Requirement already satisfied: MarkupSafe>=2.1.1 in c:\\users\\h\\appdata\\local\\programs\\python\\python312\\lib\\site-packages (from werkzeug>=0.11.10->tensorboard<1.9.0,>=1.8.0->tensorflow==1.8.0) (2.1.3)\n",
      "Downloading absl_py-2.0.0-py3-none-any.whl (130 kB)\n",
      "   ---------------------------------------- 0.0/130.2 kB ? eta -:--:--\n",
      "   ---------------------------------------- 130.2/130.2 kB ? eta 0:00:00\n",
      "Downloading grpcio-1.59.2-cp312-cp312-win_amd64.whl (3.7 MB)\n",
      "   ---------------------------------------- 0.0/3.7 MB ? eta -:--:--\n",
      "   ----- ---------------------------------- 0.5/3.7 MB 15.5 MB/s eta 0:00:01\n",
      "   ----------- ---------------------------- 1.1/3.7 MB 11.3 MB/s eta 0:00:01\n",
      "   ----------------- ---------------------- 1.6/3.7 MB 11.3 MB/s eta 0:00:01\n",
      "   ----------------------- ---------------- 2.2/3.7 MB 11.5 MB/s eta 0:00:01\n",
      "   ---------------------------- ----------- 2.7/3.7 MB 12.1 MB/s eta 0:00:01\n",
      "   ----------------------------------- ---- 3.2/3.7 MB 11.4 MB/s eta 0:00:01\n",
      "   ---------------------------------------  3.7/3.7 MB 11.6 MB/s eta 0:00:01\n",
      "   ---------------------------------------- 3.7/3.7 MB 11.1 MB/s eta 0:00:00\n",
      "Downloading protobuf-4.25.0-cp310-abi3-win_amd64.whl (413 kB)\n",
      "   ---------------------------------------- 0.0/413.2 kB ? eta -:--:--\n",
      "   --------------------------------------- 413.2/413.2 kB 12.6 MB/s eta 0:00:00\n",
      "Using cached wheel-0.41.3-py3-none-any.whl (65 kB)\n",
      "Downloading Markdown-3.5.1-py3-none-any.whl (102 kB)\n",
      "   ---------------------------------------- 0.0/102.2 kB ? eta -:--:--\n",
      "   ---------------------------------------- 102.2/102.2 kB ? eta 0:00:00\n",
      "Building wheels for collected packages: html5lib\n",
      "  Building wheel for html5lib (pyproject.toml): started\n",
      "  Building wheel for html5lib (pyproject.toml): finished with status 'done'\n",
      "  Created wheel for html5lib: filename=html5lib-0.9999999-py3-none-any.whl size=107283 sha256=7739b3cb6fcf4c50f72a3cc7d4ceefa8e62ec92d1ea980a3da1bc7abfb27ac80\n",
      "  Stored in directory: c:\\users\\h\\appdata\\local\\pip\\cache\\wheels\\ed\\0c\\ca\\b7a94e78386c5a26560f99fb16f500210abbef852ff0dfcf32\n",
      "Successfully built html5lib\n",
      "Installing collected packages: wheel, termcolor, protobuf, markdown, html5lib, grpcio, gast, astor, absl-py, bleach, tensorboard, tensorflow\n",
      "Successfully installed absl-py-2.0.0 astor-0.8.1 bleach-1.5.0 gast-0.5.4 grpcio-1.59.2 html5lib-0.9999999 markdown-3.5.1 protobuf-4.25.0 tensorboard-1.8.0 tensorflow-1.8.0 termcolor-2.3.0 wheel-0.41.3\n",
      "Note: you may need to restart the kernel to use updated packages.\n"
     ]
    },
    {
     "name": "stderr",
     "output_type": "stream",
     "text": [
      "  WARNING: The script wheel.exe is installed in 'c:\\Users\\H\\AppData\\Local\\Programs\\Python\\Python312\\Scripts' which is not on PATH.\n",
      "  Consider adding this directory to PATH or, if you prefer to suppress this warning, use --no-warn-script-location.\n",
      "  WARNING: The script markdown_py.exe is installed in 'c:\\Users\\H\\AppData\\Local\\Programs\\Python\\Python312\\Scripts' which is not on PATH.\n",
      "  Consider adding this directory to PATH or, if you prefer to suppress this warning, use --no-warn-script-location.\n",
      "  WARNING: The script tensorboard.exe is installed in 'c:\\Users\\H\\AppData\\Local\\Programs\\Python\\Python312\\Scripts' which is not on PATH.\n",
      "  Consider adding this directory to PATH or, if you prefer to suppress this warning, use --no-warn-script-location.\n",
      "  WARNING: The scripts freeze_graph.exe, saved_model_cli.exe, tensorboard.exe, toco.exe and toco_from_protos.exe are installed in 'c:\\Users\\H\\AppData\\Local\\Programs\\Python\\Python312\\Scripts' which is not on PATH.\n",
      "  Consider adding this directory to PATH or, if you prefer to suppress this warning, use --no-warn-script-location.\n"
     ]
    }
   ],
   "source": [
    "pip install https://storage.googleapis.com/tensorflow/mac/cpu/tensorflow-1.8.0-py3-none-any.whl"
   ]
  }
 ],
 "metadata": {
  "kernelspec": {
   "display_name": "Python 3",
   "language": "python",
   "name": "python3"
  },
  "language_info": {
   "codemirror_mode": {
    "name": "ipython",
    "version": 3
   },
   "file_extension": ".py",
   "mimetype": "text/x-python",
   "name": "python",
   "nbconvert_exporter": "python",
   "pygments_lexer": "ipython3",
   "version": "3.12.0"
  }
 },
 "nbformat": 4,
 "nbformat_minor": 2
}
